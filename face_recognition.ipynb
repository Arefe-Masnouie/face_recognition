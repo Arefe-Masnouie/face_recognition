{
 "cells": [
  {
   "cell_type": "code",
   "execution_count": 2,
   "metadata": {},
   "outputs": [],
   "source": [
    "import face_recognition as fr\n",
    "from PIL import Image\n",
    "import numpy as np\n",
    "import cv2"
   ]
  },
  {
   "cell_type": "code",
   "execution_count": 2,
   "metadata": {},
   "outputs": [],
   "source": [
    "image1 = np.array(Image.open('arefe.jpg'))\n",
    "locate = fr.face_locations(image1)\n",
    "\n",
    "image3 = np.array(Image.open('ali.jpg'))\n",
    "locate = fr.face_locations(image3)"
   ]
  },
  {
   "cell_type": "code",
   "execution_count": 3,
   "metadata": {},
   "outputs": [],
   "source": [
    "#feature extraction\n",
    "register1 = fr.face_encodings(image1)[0]\n",
    "register3 = fr.face_encodings(image3)[0]"
   ]
  },
  {
   "cell_type": "code",
   "execution_count": 4,
   "metadata": {},
   "outputs": [],
   "source": [
    "cap = cv2.VideoCapture(0)\n",
    "_,img = cap.read()\n",
    "\n",
    "while True:\n",
    "\n",
    "    _,img = cap.read()\n",
    "\n",
    "    img2 = cv2.cvtColor(img, cv2.COLOR_BGR2RGB)\n",
    "    locate = fr.face_locations(img2)\n",
    "\n",
    "    if len(locate) >0:\n",
    "        img = cv2.rectangle(img,(locate[0][3],locate[0][0]),(locate[0][1],locate[0][2]),(0,255,0),5)\n",
    "        encode = fr.face_encodings(img2)\n",
    "\n",
    "        result = fr.compare_faces([register1, register3], encode[0])\n",
    "        if result[0] == True:\n",
    "            cv2.putText(img,\"Arefe\",(locate[0][3] + 6, locate[0][0] -6),cv2.FONT_HERSHEY_DUPLEX, 1.0,(0,255,0),1)\n",
    "        elif result[2] == True:\n",
    "            cv2.putText(img,\"Ali\",(locate[0][3] + 6, locate[0][0] -6),cv2.FONT_HERSHEY_DUPLEX, 1.0,(0,255,0),1)\n",
    "        else:\n",
    "            cv2.putText(img,\"unknown\",(locate[0][3] + 6, locate[0][0] -6),cv2.FONT_HERSHEY_DUPLEX, 1.0,(0,255,0),1)\n",
    "\n",
    "    cv2.imshow('image', img)\n",
    "\n",
    "    if cv2.waitKey(1) & 0xFF ==ord('q'):\n",
    "        break\n",
    "\n",
    "cap.release()  #turn off the camera\n",
    "cv2.destroyAllWindows()"
   ]
  }
 ],
 "metadata": {
  "kernelspec": {
   "display_name": "base",
   "language": "python",
   "name": "python3"
  },
  "language_info": {
   "codemirror_mode": {
    "name": "ipython",
    "version": 3
   },
   "file_extension": ".py",
   "mimetype": "text/x-python",
   "name": "python",
   "nbconvert_exporter": "python",
   "pygments_lexer": "ipython3",
   "version": "3.8.8"
  }
 },
 "nbformat": 4,
 "nbformat_minor": 2
}
